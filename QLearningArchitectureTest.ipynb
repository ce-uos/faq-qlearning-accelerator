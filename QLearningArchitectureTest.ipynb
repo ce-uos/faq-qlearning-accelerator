{
 "cells": [
  {
   "cell_type": "code",
   "execution_count": 1,
   "metadata": {},
   "outputs": [
    {
     "data": {
      "application/javascript": [
       "\n",
       "require(['notebook/js/codecell'], function(codecell) {\n",
       "  codecell.CodeCell.options_default.highlight_modes[\n",
       "      'magic_text/x-csrc'] = {'reg':[/^%%microblaze/]};\n",
       "  Jupyter.notebook.events.one('kernel_ready.Kernel', function(){\n",
       "      Jupyter.notebook.get_cells().map(function(cell){\n",
       "          if (cell.cell_type == 'code'){ cell.auto_highlight(); } }) ;\n",
       "  });\n",
       "});\n"
      ]
     },
     "metadata": {},
     "output_type": "display_data"
    }
   ],
   "source": [
    "from pynq import Overlay, DefaultIP\n",
    "from IPython.display import HTML\n",
    "from pynq import Xlnk\n",
    "import numpy as np\n",
    "from time import sleep\n"
   ]
  },
  {
   "cell_type": "code",
   "execution_count": 2,
   "metadata": {},
   "outputs": [],
   "source": [
    "class QLearningDriver(DefaultIP):\n",
    "    def __init__(self, description):\n",
    "        super().__init__(description=description)\n",
    "        \n",
    "    @property\n",
    "    def alpha(self):\n",
    "        return self.read(28)\n",
    "    @alpha.setter\n",
    "    def alpha(self, alpha):\n",
    "        self.write(8, alpha)\n",
    "        \n",
    "    @property\n",
    "    def gamma(self):\n",
    "        return self.read(32)\n",
    "    @gamma.setter\n",
    "    def gamma(self, gamma):\n",
    "        self.write(12, gamma)\n",
    "        \n",
    "    @property\n",
    "    def episodes(self):\n",
    "        return self.read(20)\n",
    "    \n",
    "    def enable(self):\n",
    "        self.write(4, 1)\n",
    "    \n",
    "    def disable(self):\n",
    "        self.write(4, 0)\n",
    "        \n",
    "    bindto = ['xilinx.com:module_ref:qlearning_axi:1.0']\n",
    "    \n",
    "def policy(data):\n",
    "    ctr = 0\n",
    "    for da in data:\n",
    "        \n",
    "        u = int(da) >> 48\n",
    "        r = (int(da) >> 32) & 0xFFFF\n",
    "        d = (int(da) >> 16) & 0xFFFF\n",
    "        l = int(da) & 0xFFFF\n",
    "        print(ctr, u, r, d, l)\n",
    "        ctr += 1\n",
    "        \n",
    "def policy(data):\n",
    "    ctr = 0\n",
    "    for da in data:\n",
    "        u = int(da) >> 48\n",
    "        r = (int(da) >> 32) & 0xFFFF\n",
    "        d = (int(da) >> 16) & 0xFFFF\n",
    "        l = int(da) & 0xFFFF\n",
    "        print(ctr, u, r, d, l)\n",
    "        ctr += 1"
   ]
  },
  {
   "cell_type": "code",
   "execution_count": 3,
   "metadata": {},
   "outputs": [],
   "source": [
    "overlay = Overlay('design_1_wrapper.bit')\n",
    "qlearn = overlay.qlearning_axi_0.S_AXI\n",
    "dma = overlay.axi_dma_0"
   ]
  },
  {
   "cell_type": "code",
   "execution_count": 4,
   "metadata": {},
   "outputs": [
    {
     "name": "stdout",
     "output_type": "stream",
     "text": [
      "1\n",
      "1\n",
      "0\n"
     ]
    }
   ],
   "source": [
    "qlearn.gamma = 1\n",
    "qlearn.alpha = 1\n",
    "\n",
    "print(qlearn.gamma)\n",
    "print(qlearn.alpha)\n",
    "print(qlearn.episodes)"
   ]
  },
  {
   "cell_type": "code",
   "execution_count": 14,
   "metadata": {},
   "outputs": [
    {
     "data": {
      "text/plain": [
       "300687885"
      ]
     },
     "execution_count": 14,
     "metadata": {},
     "output_type": "execute_result"
    }
   ],
   "source": [
    "qlearn.enable()\n",
    "sleep(1)\n",
    "qlearn.disable()\n",
    "qlearn.episodes"
   ]
  },
  {
   "cell_type": "code",
   "execution_count": 6,
   "metadata": {},
   "outputs": [
    {
     "name": "stdout",
     "output_type": "stream",
     "text": [
      "True\n",
      "True\n"
     ]
    }
   ],
   "source": [
    "print(dma.sendchannel.running)\n",
    "print(dma.recvchannel.running)\n",
    "\n",
    "xlnk = Xlnk()\n",
    "in_buffer = xlnk.cma_array(shape=(16,), dtype=np.uint64)"
   ]
  },
  {
   "cell_type": "code",
   "execution_count": 17,
   "metadata": {},
   "outputs": [
    {
     "name": "stdout",
     "output_type": "stream",
     "text": [
      "[  281487861809153   281505041874947   563010083880966  1688978709413902\n",
      "  3940915962314766   844485060657154  1688983006216198  3940915962314766\n",
      "  1688909990723586  1688978711248903  3940915965984783  8444794763083806\n",
      "  3940709805457414  3940778527031310  8444515597615134 72058689271300351]\n",
      "0 1 3 3 1\n",
      "1 1 7 6 3\n",
      "2 2 14 14 6\n",
      "3 6 30 2 14\n",
      "4 14 62 6 14\n",
      "5 3 14 15 2\n",
      "6 6 31 30 6\n",
      "7 14 62 6 14\n",
      "8 6 14 14 2\n",
      "9 6 30 30 7\n",
      "10 14 62 62 15\n",
      "11 30 127 14 30\n",
      "12 14 14 30 6\n",
      "13 14 30 62 14\n",
      "14 30 62 127 30\n",
      "15 256 255 255 255\n"
     ]
    }
   ],
   "source": [
    "dma.recvchannel.transfer(in_buffer)\n",
    "dma.recvchannel.wait()\n",
    "print(in_buffer)\n",
    "policy(in_buffer)"
   ]
  },
  {
   "cell_type": "code",
   "execution_count": 9,
   "metadata": {},
   "outputs": [
    {
     "name": "stdout",
     "output_type": "stream",
     "text": [
      "4098\n",
      "65539\n"
     ]
    }
   ],
   "source": [
    "dmaaxi = overlay.axi_dma_0.mmio\n",
    "print(dmaaxi.read(0x34))\n",
    "print(dmaaxi.read(0x30))"
   ]
  }
 ],
 "metadata": {
  "kernelspec": {
   "display_name": "Python 3",
   "language": "python",
   "name": "python3"
  },
  "language_info": {
   "codemirror_mode": {
    "name": "ipython",
    "version": 3
   },
   "file_extension": ".py",
   "mimetype": "text/x-python",
   "name": "python",
   "nbconvert_exporter": "python",
   "pygments_lexer": "ipython3",
   "version": "3.6.5"
  }
 },
 "nbformat": 4,
 "nbformat_minor": 2
}
